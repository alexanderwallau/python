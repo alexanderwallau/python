{
 "cells": [
  {
   "cell_type": "markdown",
   "id": "1cfe44a7-e6a8-4754-a2bd-e99227e0c25a",
   "metadata": {
    "jp-MarkdownHeadingCollapsed": true,
    "tags": []
   },
   "source": [
    "## Cool coding with Bettina & Marvin & Chris\n",
    "## Translated by Alexander\n",
    "\n",
    "### Overview on the topic of coding style based on the conventions from [PEP8](https://www.python.org/dev/peps/pep-0008/).\n",
    "\n",
    "#### A concern of the tutors from the computer science department for the benefit of all involved."
   ]
  },
  {
   "cell_type": "markdown",
   "id": "b7695803-cfac-4a99-88c8-1dfe887edba2",
   "metadata": {
    "tags": []
   },
   "source": [
    "# General Formatting"
   ]
  },
  {
   "cell_type": "code",
   "execution_count": null,
   "id": "da211389-c14d-4661-9552-debb2908fbc8",
   "metadata": {},
   "outputs": [],
   "source": [
    "# Bad code we want to improve:\n",
    "x=1\n",
    "y=[21,42]\n",
    "def fn(x,y):\n",
    " x=x*2\n",
    " if x==y:\n",
    "  print(\"This is correct\")\n",
    "  return True\n",
    " else:\n",
    "  print(\"This is false\")\n",
    "  return False\n",
    "z=\"data/\"\n",
    "x=fn(x,y)\n",
    "print(x)"
   ]
  },
  {
   "cell_type": "markdown",
   "id": "b44954f1-087f-4579-bd0d-c8bbb9583cec",
   "metadata": {
    "tags": []
   },
   "source": [
    "## Indentations: [Tabs vs Spaces](https://www.youtube.com/watch?v=SsoOG6ZeyUI)\n",
    "4 spaces per indentation, tabs are discouraged.  \n",
    "_Careful!_ Tabs and spaces are different for python, mixing them quickly leads to errors!\n",
    "\n",
    "It is advisable to configure the editor in such a way that a tab is automatically converted into four spaces.  \n",
    "So one can use `tab`  to indent all lines more easily to the same distance, but has the advantages of Spaces. \n",
    "In Jupyter this setting is available under: `Settings/ Text Editor Indention/ Indent with Tab` .  "
   ]
  },
  {
   "cell_type": "code",
   "execution_count": null,
   "id": "eb5f2dda-8948-41f3-bebc-b03553a074a5",
   "metadata": {
    "tags": []
   },
   "outputs": [],
   "source": [
    "# Bad code we want to improve:\n",
    "x=1\n",
    "y=[21,42]\n",
    "def fn(x,y):\n",
    "    x=x*2\n",
    "    if x==y:\n",
    "        print(\"This is correct\")\n",
    "        return True\n",
    "    else:\n",
    "        print(\"This is false\")\n",
    "        return False\n",
    "z=\"data/\"\n",
    "x=fn(x,y)\n",
    "print(x)"
   ]
  },
  {
   "cell_type": "markdown",
   "id": "7a0e8f2a-3f44-4bba-81de-63a33f3c652d",
   "metadata": {
    "tags": []
   },
   "source": [
    "## More Spaces!\n",
    "There must be a space between the variable and the equals sign, and between the equals sign and the assigned value.  \n",
    "The same applies to arithmetic operations."
   ]
  },
  {
   "cell_type": "code",
   "execution_count": null,
   "id": "65bb78b4-3456-49a3-9244-bb9886e40796",
   "metadata": {},
   "outputs": [],
   "source": [
    "x = 1\n",
    "y = [21,42]\n",
    "def fn(x,y):\n",
    "    x = x * 2\n",
    "    if x==y:\n",
    "        print(\"This is correct\")\n",
    "        return True\n",
    "    else:\n",
    "        print(\"This is false\")\n",
    "        return False\n",
    "z = \"data/\"1\n",
    "x = fn(x,y)\n",
    "print(x)"
   ]
  },
  {
   "cell_type": "markdown",
   "id": "5ca66fe2-fedd-4042-a7a9-b5ee8ed6f349",
   "metadata": {
    "tags": []
   },
   "source": [
    "# More Spaces!!\n",
    "Spaces also belong after commas and in Boolean comparisons."
   ]
  },
  {
   "cell_type": "code",
   "execution_count": null,
   "id": "323accb6-48a3-4278-9769-f63ae5c3d88e",
   "metadata": {},
   "outputs": [],
   "source": [
    "x = 1\n",
    "y = [21, 42]\n",
    "def fn(x, y):\n",
    "    x = x * 2\n",
    "    if x == y:\n",
    "        print(\"This is correct\")\n",
    "        return True\n",
    "    else:\n",
    "        print(\"This is false\")\n",
    "        return False\n",
    "z = \"data/\"\n",
    "x = fn(x, y)\n",
    "print(x)"
   ]
  },
  {
   "cell_type": "markdown",
   "id": "3042220d-0b37-4f14-970f-02fd123bbc71",
   "metadata": {},
   "source": [
    "## Blank lines\n",
    "Before and after functions belong  _two_ blank lines!"
   ]
  },
  {
   "cell_type": "code",
   "execution_count": null,
   "id": "44e28456-0c2f-4256-a536-3bfd1a9920a1",
   "metadata": {},
   "outputs": [],
   "source": [
    "x = 1\n",
    "y = [21, 42]\n",
    "\n",
    "\n",
    "def fn(x, y):\n",
    "    x = x * 2\n",
    "    if x == y:\n",
    "        print(\"This is correct\")\n",
    "        return True\n",
    "    else:\n",
    "        print(\"This is false\")\n",
    "        return False\n",
    "\n",
    "\n",
    "z = \"data/\"\n",
    "x = fn(x, y)\n",
    "print(x)"
   ]
  },
  {
   "cell_type": "markdown",
   "id": "b5500081-9368-4573-9b3f-c56641bfc029",
   "metadata": {},
   "source": [
    "## Programming is international (and English)!\n",
    "All common programming languages are designed for the English language, as can be seen from the names of the built-in functions, e.g. `print()` or `type()`.  \n",
    "_Good Code should be  \"in English\"._"
   ]
  },
  {
   "cell_type": "code",
   "execution_count": null,
   "id": "b95139cc-1bfa-4419-9633-0b7197963167",
   "metadata": {},
   "outputs": [],
   "source": [
    "x = 1\n",
    "y = [21, 42]\n",
    "\n",
    "\n",
    "def fn(x, y):\n",
    "    x = x * 2\n",
    "    if x == y:\n",
    "        print(\"This is true\")\n",
    "        return True\n",
    "    else:\n",
    "        print(\"This is false\")\n",
    "        return False\n",
    "\n",
    "\n",
    "z = \"data/\"\n",
    "x = fn(x, y)\n",
    "print(x)"
   ]
  },
  {
   "cell_type": "markdown",
   "id": "8ca9afa6-190b-4371-9cde-8688a59cda6d",
   "metadata": {},
   "source": [
    "## Descriptive Names\n",
    "Choosing variable names is a science in itself.\n",
    "In geneal short name e.g. `x`, `y` or `a` are a poor choice.  \n",
    "Good names are e.g. `res1`, `x_vals` or `last_name`."
   ]
  },
  {
   "cell_type": "code",
   "execution_count": null,
   "id": "8efee879-1b09-4191-b9e8-05ade4466874",
   "metadata": {},
   "outputs": [],
   "source": [
    "number_to_double = 1\n",
    "val_to_compare_to = [21, 42]\n",
    "\n",
    "\n",
    "def check_if_double(number_to_double, val_to_compare_to):\n",
    "    number_to_double = number_to_double * 2\n",
    "    if number_to_double == val_to_compare_to:\n",
    "        print(\"This is true\")\n",
    "        return True\n",
    "    else:\n",
    "        print(\"This is false\")\n",
    "        return False\n",
    "\n",
    "\n",
    "data_path = \"data/\"\n",
    "number_to_double = check_if_double(number_to_double, val_to_compare_to)\n",
    "print(number_to_dubble)"
   ]
  },
  {
   "cell_type": "markdown",
   "id": "bf785e02-2867-40d0-bc97-ad94ab0f0dee",
   "metadata": {},
   "source": [
    "## Single Blank lines for better structuring \n",
    "Blank lines can aid readability.  \n",
    "Explicit rules for those are not yet conceived.  "
   ]
  },
  {
   "cell_type": "code",
   "execution_count": null,
   "id": "6a56a1b3-e8fd-489f-909e-53f8f7c6e87d",
   "metadata": {},
   "outputs": [],
   "source": [
    "number_to_double = 1\n",
    "val_to_compare_to = [21, 42]\n",
    "\n",
    "\n",
    "def check_if_double(number_to_double, val_to_compare_to):\n",
    "    \n",
    "    number_to_double = number_to_double * 2\n",
    "    \n",
    "    if number_to_double == val_to_compare_to:\n",
    "        print(\"This is true\")\n",
    "        return True\n",
    "    \n",
    "    else:\n",
    "        print(\"This is false\")\n",
    "        return False\n",
    "\n",
    "\n",
    "data_path = \"data/\"\n",
    "\n",
    "number_to_double = fn(number_to_double, val_to_compare_to)\n",
    "print(number_to_dubble)"
   ]
  },
  {
   "cell_type": "markdown",
   "id": "0668c8c5-28c6-4bcf-92d6-dc37555cd57f",
   "metadata": {},
   "source": [
    "## Avoid using the same variable names in different sections of your code!\n",
    "Variables outside a function should _always_ have different names than the variables inside the function.  \n",
    "In addition, a new value should also have a new name.  "
   ]
  },
  {
   "cell_type": "code",
   "execution_count": null,
   "id": "9b4cc5a6-ec00-4298-83b9-5c7a335ac65c",
   "metadata": {},
   "outputs": [],
   "source": [
    "num1 = 1\n",
    "x_vals = [21, 42]\n",
    "\n",
    "\n",
    "def check_if_double(number_to_double, val_to_compare_to):\n",
    "    \n",
    "    number_to_dubble = number_to_double * 2\n",
    "    \n",
    "    if number_to_double == val_to_compare_to:\n",
    "        print(\"This is true\")\n",
    "        return True\n",
    "    \n",
    "    else:\n",
    "        print(\"This is false\")\n",
    "        return False\n",
    "\n",
    "\n",
    "data_path = \"data/\"\n",
    "\n",
    "res = check_if_double(num1, x_vals)\n",
    "print(res)"
   ]
  },
  {
   "cell_type": "markdown",
   "id": "a4cbf589-1871-4f85-975d-6bbe8ad07540",
   "metadata": {},
   "source": [
    "## Imports, Functions and Constants belong at the top!\n",
    "All imports should be defined first, then all functions, and only then should the actual, concrete calls start.  \n",
    "Constants, i.e. variables whose content should not be changed at any point, should be defined above the functions.  \n",
    "\n",
    "Usually, constant values are characterised by the fact that they are written completely in CAPS.   "
   ]
  },
  {
   "cell_type": "code",
   "execution_count": null,
   "id": "44883995-6eff-493e-b2f3-367dc4e4e983",
   "metadata": {},
   "outputs": [],
   "source": [
    "DATA_PATH = \"data/\"\n",
    "\n",
    "\n",
    "def check_if_double(number_to_double, val_to_compare_to):\n",
    "    \n",
    "    number_to_dubble = number_to_double * 2\n",
    "    \n",
    "    if number_to_double == val_to_compare_to:\n",
    "        print(\"This is true\")\n",
    "        return True\n",
    "    \n",
    "    else:\n",
    "        print(\"This is false\")\n",
    "        return False\n",
    "\n",
    "\n",
    "num1 = 1\n",
    "x_vals = [21, 42]\n",
    "\n",
    "res = check_if_double(num1, x_vals)\n",
    "print(res)"
   ]
  },
  {
   "cell_type": "markdown",
   "id": "6199bdee-eb73-426b-8bb8-4f1575d22498",
   "metadata": {
    "tags": []
   },
   "source": [
    "# Comments!\n",
    "Code **must** be commented!  \n",
    "There are two types of Comments:    \n",
    "* The one-liner: `# this is a comment`  \n",
    "* The Docstring: `\"\"\"This is a potential multi-line comment\"\"\"`  \n",
    "\n",
    "Comments are (mostly) written in the English imperative:  \n",
    "`code = crazy_fn(True)  # call function, send message, recieve new code`  \n",
    "\n",
    "\n",
    "#### Spacing:\n",
    "Put a space between `#` and the actual comment.  \n",
    "If the comment is placed after the programme code, _two_ spaces must be placed between the code and `#`.\n",
    "\n",
    "#### Describing a function\n",
    "The description of a function always includes:  \n",
    "* Why does this funtion exist/ What does this function do\n",
    "* What are the necessary inputs? - do they require a specific type e.g. booleaan?\n",
    "* Does the function return something? - If so, then what exactly?"
   ]
  },
  {
   "cell_type": "code",
   "execution_count": null,
   "id": "071a2357-fb11-49b7-a1d5-2dcaadd1ee1b",
   "metadata": {},
   "outputs": [],
   "source": [
    "DATA_PATH = \"data/\"  # path were data is expected and read from \n",
    "\n",
    "\n",
    "def check_if_double(number_to_double, val_to_compare_to):\n",
    "    \"\"\"\n",
    "    Take two params, double first one, compare both\n",
    "    return boolean if both are equal\n",
    "    \"\"\"\n",
    "    \n",
    "    # double value\n",
    "    number_to_dubble = number_to_double * 2  # multiply by two to double the value\n",
    "    \n",
    "    # compare values - print if is equal, return\n",
    "    if number_to_double == val_to_compare_to:\n",
    "        print(\"This is true\")  # print that this is true to terminal\n",
    "        return True  # return true if value was true\n",
    "    \n",
    "    # this is what we if the if check fails\n",
    "    else:\n",
    "        print(\"This is false\")  # print in terminal that this is false\n",
    "        return False  # return false\n",
    "\n",
    "\n",
    "num1 = 1  # this value is one\n",
    "x_vals = [21, 42]  # values meassured in last experiment\n",
    "\n",
    "# verifiy that first value is twice the second one\n",
    "res = check_if_double(num1, x_vals)  # call a function\n",
    "print(res)  # print result to terminal"
   ]
  },
  {
   "cell_type": "markdown",
   "id": "91801919-2745-4123-a83c-840af0c5c5f5",
   "metadata": {
    "tags": []
   },
   "source": [
    "## Are there unnecessary comments? - Oh yes, loads actually.\n",
    "\n",
    "\n",
    "![Image](https://i.imgur.com/Wo7vNwk.jpg)  \n",
    "\n",
    "\n",
    "### Let's clean up this mess..."
   ]
  },
  {
   "cell_type": "code",
   "execution_count": null,
   "id": "4fd62cf1-11a2-485a-b01d-73e93ed72267",
   "metadata": {},
   "outputs": [],
   "source": [
    "DATA_PATH = \"data/\"  # path were data is expected and read from \n",
    "\n",
    "\n",
    "def check_if_double(number_to_double, val_to_compare_to):\n",
    "    \"\"\"\n",
    "    Take two params, double first one, compare both\n",
    "    return boolean if both are equal\n",
    "    \"\"\"\n",
    "    \n",
    "    # double value\n",
    "    number_to_dubble = number_to_double * 2\n",
    "\n",
    "    # compare values - print if is equal, return\n",
    "    if number_to_double == val_to_compare_to:\n",
    "        print(\"This is true\")\n",
    "        return True\n",
    "    \n",
    "    else:\n",
    "        print(\"This is false\")\n",
    "        return False\n",
    "\n",
    "\n",
    "num1 = 1\n",
    "x_vals = [21, 42]  # values meassured in last experiment\n",
    "\n",
    "# verifiy that first value is twice the second one\n",
    "res = check_if_double(num1, x_vals)\n",
    "print(res)  # print result to terminal"
   ]
  },
  {
   "cell_type": "markdown",
   "id": "94f57ce1-39a3-41a5-a064-e02420f36f43",
   "metadata": {},
   "source": [
    "## snake_case\n",
    "The current convention in python is that `snake_case` is being used instead of  `camelCase`.  \n",
    "In addition, variable and function names _always_ begin with a lower case letter. Constants are excluded (these are written in CAPS and snake_case).  \n",
    "(Only classes are written in CamelCase and begin with a capital letter, but this is not relevant here)."
   ]
  },
  {
   "cell_type": "code",
   "execution_count": null,
   "id": "4088db37-c7f8-4473-ad90-e948df79e190",
   "metadata": {},
   "outputs": [],
   "source": [
    "DATA_PATH = \"data/\"  # path were data is expected and read from \n",
    "\n",
    "\n",
    "def WrongWrittenFunction(justForDemontration):\n",
    "    \"\"\"How did this get in here?! - Delete this! Now!!!\"\"\"\n",
    "    print(\"iAmYourJava\")\n",
    "\n",
    "def check_if_double(number_to_double, val_to_compare_to):\n",
    "    \"\"\"\n",
    "    Take two params, double first one, compare both\n",
    "    return boolean if both are equal\n",
    "    \"\"\"\n",
    "    \n",
    "    # double value\n",
    "    number_to_dubble = number_to_double * 2\n",
    "\n",
    "    # compare values - print if is equal, return\n",
    "    if number_to_double == val_to_compare_to:\n",
    "        print(\"This is true\")\n",
    "        return True\n",
    "    \n",
    "    else:\n",
    "        print(\"This is false\")\n",
    "        return False\n",
    "\n",
    "\n",
    "num1 = 1\n",
    "x_vals = [21, 42]  # values meassured in last experiment\n",
    "\n",
    "# verifiy that first value is twice the second one\n",
    "res = check_if_double(num1, x_vals)\n",
    "print(res)  # print result to terminal"
   ]
  },
  {
   "cell_type": "markdown",
   "id": "21136161-3f19-4408-b6a3-bec9e0d0f157",
   "metadata": {},
   "source": [
    "## Line length\n",
    "Take a break and breathe deeply.  \n",
    "By convention, a line of code should contain no more than 160 characters.  \n",
    "If you need more, you should either urgently break up the code a little further and store more intermediate values or look at how line breaks work.  \n",
    "If in doubt, the former will be the solution :)\n",
    "\n",
    "Yes, it's very tempting to squeeze everything into one line to look cool.  \n",
    "But it's cooler if you write your code in a way that is easy for you and others to understand.\n",
    "\n"
   ]
  },
  {
   "cell_type": "code",
   "execution_count": 2,
   "id": "8c0ab3d6-9cd0-4e67-b053-abc990eed53e",
   "metadata": {},
   "outputs": [
    {
     "name": "stdin",
     "output_type": "stream",
     "text": [
      "Gib eine Zahl ein  1\n"
     ]
    },
    {
     "name": "stdout",
     "output_type": "stream",
     "text": [
      "46.141592653000004\n"
     ]
    }
   ],
   "source": [
    "# bad practice\n",
    "x = print(str(3.141592653 + 42 + int(input(\"Gib eine Zahl ein \"))))"
   ]
  },
  {
   "cell_type": "code",
   "execution_count": null,
   "id": "56699499-fa7e-4b59-9321-457e0754f80a",
   "metadata": {},
   "outputs": [],
   "source": [
    "# better practice\n",
    "in_val = int(input(\"Gib eine Zahl ein \"))\n",
    "res = 3.141592653 + 42 + in_val\n",
    "x = print(str(res))\n",
    "# okayto cast res into a String since its not useful here, but it's about principle :)"
   ]
  },
  {
   "cell_type": "code",
   "execution_count": 3,
   "id": "3af71584-87be-459e-bead-326b17f99a2f",
   "metadata": {},
   "outputs": [
    {
     "name": "stdout",
     "output_type": "stream",
     "text": [
      "[0, 1, 0, 1, 0, 1, 0, 1, 0, 1]\n"
     ]
    }
   ],
   "source": [
    "# If you want to flex with one-liners, do it properly and learn list- / dict-comprehensions and lambdas ;)\n",
    "\n",
    "array = [1 if i % 2 != 0 else 0 for i in range(10)]  # create a list with alternating ones and zeroes \n",
    "print(array)"
   ]
  },
  {
   "cell_type": "markdown",
   "id": "f3c155b0-80cd-424e-8e5a-174b751112ae",
   "metadata": {
    "tags": []
   },
   "source": [
    "## Sonstiges"
   ]
  },
  {
   "cell_type": "code",
   "execution_count": null,
   "id": "2badb5f6-3fac-42f2-944d-f5e1d4512ff2",
   "metadata": {},
   "outputs": [],
   "source": [
    "# slicing - kurzum: no spaces as long as no functions / calculations are included\n",
    "string = \"that's good code you're writing there :D\"\n",
    "string[1:4]\n",
    "string[1 + 4 : 8]\n",
    "string[: len(string) - 2 : -1]\n",
    "string[::-1]"
   ]
  },
  {
   "cell_type": "code",
   "execution_count": null,
   "id": "bf288e7e-03b2-4fc4-b752-fcdfa9b85b79",
   "metadata": {},
   "outputs": [],
   "source": [
    "# If the list of parameters is too long, you can divide it into several lines.\n",
    "def crazy_long_fn(first_val,\n",
    "              second_val,\n",
    "              third_val,\n",
    "              fourth_val):\n",
    "    print(\"Hello there :)\")"
   ]
  },
  {
   "cell_type": "code",
   "execution_count": null,
   "id": "b33fd722-4715-4a06-834e-bd3ca12c50bd",
   "metadata": {},
   "outputs": [],
   "source": [
    "# same for function calls\n",
    "x = crazy_long_fn(52, 48,\n",
    "                  21, 42)\n",
    "                  "
   ]
  },
  {
   "cell_type": "code",
   "execution_count": null,
   "id": "c75ae68d-edc4-4d9b-ac17-d386c14b07e7",
   "metadata": {},
   "outputs": [],
   "source": [
    "# Order von imports\n",
    "# built in (standard library)\n",
    "import math\n",
    "\n",
    "# externally loaded libraries (z.B. über pip geladen)\n",
    "import numpy\n",
    "from matplotlib import pyplot as plt\n",
    "\n",
    "# files / modules you have written by yourself\n",
    "import my_math\n",
    "\n",
    "# NEVER do: from x import *"
   ]
  },
  {
   "cell_type": "code",
   "execution_count": null,
   "id": "eb2c3b3b-cf84-4ab1-b8f7-32ddbdfb9426",
   "metadata": {},
   "outputs": [],
   "source": [
    "# Keyword arguments are great!\n",
    "# kwargs can help to better document the code and show what kind of value is expected by default.\n",
    "# but they are not a panacea!\n",
    "# Parameters that are REQUIRED, otherwise the function makes no sense, should not be given a default value\n",
    "def my_keyword_fn(first_in, second_in, overwrite=True, iterations=42):\n",
    "    print(\"This function does nothing so far... but it's signature looks cool :D\")"
   ]
  },
  {
   "cell_type": "markdown",
   "id": "1336e782-d62e-41f3-96c8-b377e249a39a",
   "metadata": {
    "tags": []
   },
   "source": [
    "# TL:DR: Be nice to your Tutors and Group Mates and write clean and pretty Code :-)"
   ]
  },
  {
   "cell_type": "code",
   "execution_count": null,
   "id": "6a145097-7f7e-4377-a3fc-b5ead9c8ffe6",
   "metadata": {},
   "outputs": [],
   "source": [
    "# Bad code we want to improve:\n",
    "x=1\n",
    "y=[21,42]\n",
    "def fn(x,y):\n",
    " x=x*2\n",
    " if x==y:\n",
    "  print(\"Das ist richtig\")\n",
    "  return True\n",
    " else:\n",
    "  print(\"Das ist falsch\")\n",
    "  return False\n",
    "z=\"daten/\"\n",
    "x=fn(x,y)\n",
    "print(x)"
   ]
  },
  {
   "cell_type": "code",
   "execution_count": null,
   "id": "05c9b5ba-0a70-40f7-835b-e8e34105870e",
   "metadata": {},
   "outputs": [],
   "source": [
    "# Do this instead :)\n",
    "DATA_PATH = \"data/\"  # path were data is expected and read from \n",
    "\n",
    "\n",
    "def check_if_double(number_to_double, val_to_compare_to):\n",
    "    \"\"\"\n",
    "    Take two params, double first one, compare both\n",
    "    return boolean if both are equal\n",
    "    \"\"\"\n",
    "    \n",
    "    # double value\n",
    "    number_to_dubble = number_to_double * 2\n",
    "\n",
    "    # compare values - print if is equal, return\n",
    "    if number_to_double == val_to_compare_to:\n",
    "        print(\"This is true\")\n",
    "        return True\n",
    "    \n",
    "    else:\n",
    "        print(\"This is false\")\n",
    "        return False\n",
    "\n",
    "\n",
    "num1 = 1\n",
    "x_vals = [21, 42]  # values meassured in last experiment\n",
    "\n",
    "# verifiy that first value is twice the second one\n",
    "res = check_if_double(num1, x_vals)\n",
    "print(res)  # print result to terminal\n"
   ]
  }
 ],
 "metadata": {
  "kernelspec": {
   "display_name": "Python 3 (ipykernel)",
   "language": "python",
   "name": "python3"
  },
  "language_info": {
   "codemirror_mode": {
    "name": "ipython",
    "version": 3
   },
   "file_extension": ".py",
   "mimetype": "text/x-python",
   "name": "python",
   "nbconvert_exporter": "python",
   "pygments_lexer": "ipython3",
   "version": "3.9.10"
  }
 },
 "nbformat": 4,
 "nbformat_minor": 5
}
